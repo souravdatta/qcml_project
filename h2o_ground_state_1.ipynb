{
 "cells": [
  {
   "cell_type": "code",
   "execution_count": 6,
   "id": "4d12ba65-6b5e-447f-abfb-b35a68b3e26a",
   "metadata": {},
   "outputs": [],
   "source": [
    "# Import the quantum chemistry driver and related units\n",
    "from qiskit_nature.units import DistanceUnit\n",
    "from qiskit_nature.second_q.drivers import PySCFDriver\n",
    "from qiskit_nature.second_q.transformers import FreezeCoreTransformer\n",
    "\n",
    "# Import the qubit mapper library for Ci+ and Ci\n",
    "from qiskit_nature.second_q.mappers import JordanWignerMapper, BravyiKitaevMapper, BravyiKitaevSuperFastMapper, ParityMapper\n",
    "\n",
    "# Import a classical analyzer to compare results with VQE\n",
    "from qiskit_algorithms import NumPyMinimumEigensolver\n",
    "\n",
    "# Import VQE and related libraries\n",
    "from qiskit_algorithms import VQE\n",
    "from qiskit_algorithms.optimizers import SLSQP, NELDER_MEAD\n",
    "from qiskit.primitives import Estimator, StatevectorEstimator\n",
    "from qiskit_nature.second_q.circuit.library import HartreeFock, UCCSD\n",
    "\n",
    "# Import ground state solver\n",
    "from qiskit_nature.second_q.algorithms import GroundStateEigensolver\n",
    "\n",
    "import numpy as np\n",
    "\n",
    "# For plotting\n",
    "import matplotlib.pyplot as plt\n",
    "%matplotlib inline"
   ]
  },
  {
   "cell_type": "code",
   "execution_count": 7,
   "id": "d45f5fb3-2d13-482f-b07e-36639b7b9e21",
   "metadata": {},
   "outputs": [
    {
     "name": "stdout",
     "output_type": "stream",
     "text": [
      "(5, 5) 7\n",
      "(4, 4) 6\n"
     ]
    }
   ],
   "source": [
    "driver = PySCFDriver(\n",
    "    atom=\"O 0 0 0.115; H 0 0.754 -0.459; H 0 -0.754 -0.459\",\n",
    "    basis=\"sto3g\",\n",
    "    charge=0,\n",
    "    spin=0,\n",
    "    unit=DistanceUnit.ANGSTROM,\n",
    ")\n",
    "\n",
    "full_problem = driver.run()\n",
    "fc_transformer = FreezeCoreTransformer()\n",
    "es_problem = fc_transformer.transform(full_problem)\n",
    "print(full_problem.num_particles, full_problem.num_spatial_orbitals)\n",
    "print(es_problem.num_particles, es_problem.num_spatial_orbitals)"
   ]
  },
  {
   "cell_type": "code",
   "execution_count": 8,
   "id": "f74a2c43-a19e-4f39-ae6f-e41428a97226",
   "metadata": {},
   "outputs": [],
   "source": [
    "mapper = ParityMapper()"
   ]
  },
  {
   "cell_type": "code",
   "execution_count": 9,
   "id": "ff67e3aa-f997-434a-9ee3-0d1dfb3edb65",
   "metadata": {},
   "outputs": [],
   "source": [
    "ansatz = UCCSD(\n",
    "    es_problem.num_spatial_orbitals,\n",
    "    es_problem.num_particles,\n",
    "    mapper,\n",
    "    initial_state=HartreeFock(\n",
    "        es_problem.num_spatial_orbitals,\n",
    "        es_problem.num_particles,\n",
    "        mapper,\n",
    "    ),\n",
    ")\n",
    "\n",
    "vqe_solver = VQE(Estimator(), ansatz, SLSQP())\n",
    "vqe_solver.initial_point = [0.0] * ansatz.num_parameters"
   ]
  },
  {
   "cell_type": "code",
   "execution_count": 10,
   "id": "758a50ca-8a9d-48ad-9f27-e0f656bf98f3",
   "metadata": {},
   "outputs": [],
   "source": [
    "calc = GroundStateEigensolver(mapper, vqe_solver)"
   ]
  },
  {
   "cell_type": "code",
   "execution_count": 11,
   "id": "a10af62d-411c-46f1-81e6-964d7ecfa929",
   "metadata": {},
   "outputs": [],
   "source": [
    "numpy_solver = NumPyMinimumEigensolver()\n",
    "calc2 = GroundStateEigensolver(mapper, numpy_solver)"
   ]
  },
  {
   "cell_type": "code",
   "execution_count": 12,
   "id": "e82bb86c-27de-4c04-9e28-64b1af134fcc",
   "metadata": {},
   "outputs": [
    {
     "name": "stdout",
     "output_type": "stream",
     "text": [
      "=== GROUND STATE ENERGY ===\n",
      " \n",
      "* Electronic ground state energy (Hartree): -84.294760857849\n",
      "  - computed part:      -23.61038438923\n",
      "  - FreezeCoreTransformer extracted energy part: -60.684376468619\n",
      "~ Nuclear repulsion energy (Hartree): 9.285714221678\n",
      "> Total ground state energy (Hartree): -75.009046636171\n",
      " \n",
      "=== MEASURED OBSERVABLES ===\n",
      " \n",
      "  0:  # Particles: 8.000 S: 0.000 S^2: 0.000 M: 0.000\n",
      " \n",
      "=== DIPOLE MOMENTS ===\n",
      " \n",
      "~ Nuclear dipole moment (a.u.): [0.0  0.0  0.00377945]\n",
      " \n",
      "  0: \n",
      "  * Electronic dipole moment (a.u.): [0.0  0.0  0.644391947386]\n",
      "    - computed part:      [0.0  0.0  0.210650346165]\n",
      "    - FreezeCoreTransformer extracted energy part: [0.0  0.0  0.43374160122]\n",
      "  > Dipole moment (a.u.): [0.0  0.0  -0.640612497386]  Total: 0.640612497386\n",
      "                 (debye): [0.0  0.0  -1.628274400796]  Total: 1.628274400796\n",
      " \n",
      "CPU times: user 3.82 s, sys: 81.1 ms, total: 3.91 s\n",
      "Wall time: 3.36 s\n"
     ]
    }
   ],
   "source": [
    "%%time\n",
    "\n",
    "res2 = calc2.solve(es_problem)\n",
    "print(res2)"
   ]
  },
  {
   "cell_type": "code",
   "execution_count": null,
   "id": "d6a3c3a0-3f29-48bb-9738-26dc624ee08a",
   "metadata": {},
   "outputs": [],
   "source": [
    "%%time\n",
    "res = calc.solve(es_problem)\n",
    "print(res)"
   ]
  },
  {
   "cell_type": "code",
   "execution_count": null,
   "id": "0f6b8082-86c3-469a-a2c5-0bd09ab65626",
   "metadata": {},
   "outputs": [],
   "source": []
  }
 ],
 "metadata": {
  "kernelspec": {
   "display_name": "Python 3 (ipykernel)",
   "language": "python",
   "name": "python3"
  },
  "language_info": {
   "codemirror_mode": {
    "name": "ipython",
    "version": 3
   },
   "file_extension": ".py",
   "mimetype": "text/x-python",
   "name": "python",
   "nbconvert_exporter": "python",
   "pygments_lexer": "ipython3",
   "version": "3.10.14"
  }
 },
 "nbformat": 4,
 "nbformat_minor": 5
}
