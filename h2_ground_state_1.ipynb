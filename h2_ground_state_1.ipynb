{
 "cells": [
  {
   "cell_type": "code",
   "execution_count": 13,
   "id": "4d12ba65-6b5e-447f-abfb-b35a68b3e26a",
   "metadata": {},
   "outputs": [],
   "source": [
    "# Import the quantum chemistry driver and related units\n",
    "from qiskit_nature.units import DistanceUnit\n",
    "from qiskit_nature.second_q.drivers import PySCFDriver\n",
    "\n",
    "# Import the qubit mapper library for Ci+ and Ci\n",
    "from qiskit_nature.second_q.mappers import JordanWignerMapper, BravyiKitaevMapper, BravyiKitaevSuperFastMapper\n",
    "\n",
    "# Import a classical analyzer to compare results with VQE\n",
    "from qiskit_algorithms import NumPyMinimumEigensolver\n",
    "\n",
    "# Import VQE and related libraries\n",
    "from qiskit_algorithms import VQE\n",
    "from qiskit_algorithms.optimizers import SLSQP, NELDER_MEAD, COBYLA\n",
    "from qiskit.primitives import Estimator\n",
    "from qiskit_nature.second_q.circuit.library import HartreeFock, UCCSD\n",
    "\n",
    "# Import ground state solver\n",
    "from qiskit_nature.second_q.algorithms import GroundStateEigensolver\n",
    "\n",
    "# For plotting\n",
    "import matplotlib.pyplot as plt\n",
    "%matplotlib inline"
   ]
  },
  {
   "cell_type": "code",
   "execution_count": 14,
   "id": "d45f5fb3-2d13-482f-b07e-36639b7b9e21",
   "metadata": {},
   "outputs": [],
   "source": [
    "driver = PySCFDriver(\n",
    "    atom=\"H 0 0 0; H 0 0 0.735\",\n",
    "    basis=\"sto3g\",\n",
    "    charge=0,\n",
    "    spin=0,\n",
    "    unit=DistanceUnit.ANGSTROM,\n",
    ")\n",
    "\n",
    "es_problem = driver.run()"
   ]
  },
  {
   "cell_type": "code",
   "execution_count": 15,
   "id": "f74a2c43-a19e-4f39-ae6f-e41428a97226",
   "metadata": {},
   "outputs": [],
   "source": [
    "mapper = JordanWignerMapper()\n",
    "# mapper = BravyiKitaevMapper()"
   ]
  },
  {
   "cell_type": "code",
   "execution_count": 26,
   "id": "ff67e3aa-f997-434a-9ee3-0d1dfb3edb65",
   "metadata": {},
   "outputs": [],
   "source": [
    "ansatz = UCCSD(\n",
    "    es_problem.num_spatial_orbitals,\n",
    "    es_problem.num_particles,\n",
    "    mapper,\n",
    "    initial_state=HartreeFock(\n",
    "        es_problem.num_spatial_orbitals,\n",
    "        es_problem.num_particles,\n",
    "        mapper,\n",
    "    ),\n",
    ")\n",
    "\n",
    "vqe_solver = VQE(Estimator(), ansatz, NELDER_MEAD())\n",
    "vqe_solver.initial_point = [0.0] * ansatz.num_parameters"
   ]
  },
  {
   "cell_type": "code",
   "execution_count": 27,
   "id": "3ad807f8-6f11-4c0b-82e9-81431a60aeb2",
   "metadata": {},
   "outputs": [
    {
     "data": {
      "text/html": [
       "<pre style=\"word-wrap: normal;white-space: pre;background: #fff0;line-height: 1.1;font-family: &quot;Courier New&quot;,Courier,monospace\">     ┌───┐┌───────────────────────────────┐┌───────────────────────────────┐»\n",
       "q_0: ┤ X ├┤0                              ├┤0                              ├»\n",
       "     ├───┤│                               ││                               │»\n",
       "q_1: ┤ X ├┤1                              ├┤1                              ├»\n",
       "     ├───┤│  exp(-it (IIIY + IIZY))(t[0]) ││  exp(-it (IYII + ZYZI))(t[1]) │»\n",
       "q_2: ┤ X ├┤2                              ├┤2                              ├»\n",
       "     └───┘│                               ││                               │»\n",
       "q_3: ─────┤3                              ├┤3                              ├»\n",
       "          └───────────────────────────────┘└───────────────────────────────┘»\n",
       "«     ┌─────────────────────────────────────────────────────────────────────────┐\n",
       "«q_0: ┤0                                                                        ├\n",
       "«     │                                                                         │\n",
       "«q_1: ┤1                                                                        ├\n",
       "«     │  exp(-it (ZXZY + IYZX + IXIY + ZYIX + IYIX + ZXIY + ZYZX + IXZY))(t[2]) │\n",
       "«q_2: ┤2                                                                        ├\n",
       "«     │                                                                         │\n",
       "«q_3: ┤3                                                                        ├\n",
       "«     └─────────────────────────────────────────────────────────────────────────┘</pre>"
      ],
      "text/plain": [
       "     ┌───┐┌───────────────────────────────┐┌───────────────────────────────┐»\n",
       "q_0: ┤ X ├┤0                              ├┤0                              ├»\n",
       "     ├───┤│                               ││                               │»\n",
       "q_1: ┤ X ├┤1                              ├┤1                              ├»\n",
       "     ├───┤│  exp(-it (IIIY + IIZY))(t[0]) ││  exp(-it (IYII + ZYZI))(t[1]) │»\n",
       "q_2: ┤ X ├┤2                              ├┤2                              ├»\n",
       "     └───┘│                               ││                               │»\n",
       "q_3: ─────┤3                              ├┤3                              ├»\n",
       "          └───────────────────────────────┘└───────────────────────────────┘»\n",
       "«     ┌─────────────────────────────────────────────────────────────────────────┐\n",
       "«q_0: ┤0                                                                        ├\n",
       "«     │                                                                         │\n",
       "«q_1: ┤1                                                                        ├\n",
       "«     │  exp(-it (ZXZY + IYZX + IXIY + ZYIX + IYIX + ZXIY + ZYZX + IXZY))(t[2]) │\n",
       "«q_2: ┤2                                                                        ├\n",
       "«     │                                                                         │\n",
       "«q_3: ┤3                                                                        ├\n",
       "«     └─────────────────────────────────────────────────────────────────────────┘"
      ]
     },
     "execution_count": 27,
     "metadata": {},
     "output_type": "execute_result"
    }
   ],
   "source": [
    "ansatz.decompose().draw()"
   ]
  },
  {
   "cell_type": "code",
   "execution_count": 28,
   "id": "758a50ca-8a9d-48ad-9f27-e0f656bf98f3",
   "metadata": {},
   "outputs": [],
   "source": [
    "calc = GroundStateEigensolver(mapper, vqe_solver)"
   ]
  },
  {
   "cell_type": "code",
   "execution_count": 29,
   "id": "d6a3c3a0-3f29-48bb-9738-26dc624ee08a",
   "metadata": {},
   "outputs": [
    {
     "name": "stdout",
     "output_type": "stream",
     "text": [
      "=== GROUND STATE ENERGY ===\n",
      " \n",
      "* Electronic ground state energy (Hartree): -1.857275028293\n",
      "  - computed part:      -1.857275028293\n",
      "~ Nuclear repulsion energy (Hartree): 0.719968994449\n",
      "> Total ground state energy (Hartree): -1.137306033844\n",
      " \n",
      "=== MEASURED OBSERVABLES ===\n",
      " \n",
      "  0:  # Particles: 2.000 S: 0.000 S^2: 0.000 M: 0.000\n",
      " \n",
      "=== DIPOLE MOMENTS ===\n",
      " \n",
      "~ Nuclear dipole moment (a.u.): [0.0  0.0  1.3889487]\n",
      " \n",
      "  0: \n",
      "  * Electronic dipole moment (a.u.): [0.0  0.0  1.389017800444]\n",
      "    - computed part:      [0.0  0.0  1.389017800444]\n",
      "  > Dipole moment (a.u.): [0.0  0.0  -0.000069100444]  Total: 0.000069100444\n",
      "                 (debye): [0.0  0.0  -0.000175635794]  Total: 0.000175635794\n",
      " \n",
      "CPU times: user 12.4 s, sys: 307 ms, total: 12.7 s\n",
      "Wall time: 12.7 s\n"
     ]
    }
   ],
   "source": [
    "%%time\n",
    "res = calc.solve(es_problem)\n",
    "print(res)"
   ]
  },
  {
   "cell_type": "markdown",
   "id": "d3429f10-452e-4e39-a5c8-d1adc08bf219",
   "metadata": {},
   "source": [
    "### Comparing with a classical Eigensolver (provided by numpy)"
   ]
  },
  {
   "cell_type": "code",
   "execution_count": 74,
   "id": "a6c92911-25f5-487a-933a-42dac5cec132",
   "metadata": {},
   "outputs": [],
   "source": [
    "numpy_solver = NumPyMinimumEigensolver()\n",
    "calc2 = GroundStateEigensolver(mapper, numpy_solver)"
   ]
  },
  {
   "cell_type": "code",
   "execution_count": 75,
   "id": "e82bb86c-27de-4c04-9e28-64b1af134fcc",
   "metadata": {},
   "outputs": [
    {
     "name": "stdout",
     "output_type": "stream",
     "text": [
      "=== GROUND STATE ENERGY ===\n",
      " \n",
      "* Electronic ground state energy (Hartree): -1.857275030202\n",
      "  - computed part:      -1.857275030202\n",
      "~ Nuclear repulsion energy (Hartree): 0.719968994449\n",
      "> Total ground state energy (Hartree): -1.137306035753\n",
      " \n",
      "=== MEASURED OBSERVABLES ===\n",
      " \n",
      "  0:  # Particles: 2.000 S: 0.000 S^2: 0.000 M: 0.000\n",
      " \n",
      "=== DIPOLE MOMENTS ===\n",
      " \n",
      "~ Nuclear dipole moment (a.u.): [0.0  0.0  1.3889487]\n",
      " \n",
      "  0: \n",
      "  * Electronic dipole moment (a.u.): [0.0  0.0  1.388948701555]\n",
      "    - computed part:      [0.0  0.0  1.388948701555]\n",
      "  > Dipole moment (a.u.): [0.0  0.0  -0.000000001555]  Total: 0.000000001555\n",
      "                 (debye): [0.0  0.0  -0.000000003953]  Total: 0.000000003953\n",
      " \n",
      "CPU times: user 286 ms, sys: 20.3 ms, total: 306 ms\n",
      "Wall time: 303 ms\n"
     ]
    }
   ],
   "source": [
    "%%time\n",
    "res2 = calc2.solve(es_problem)\n",
    "print(res2)"
   ]
  },
  {
   "cell_type": "markdown",
   "id": "9d030713-a3f0-4db4-8bf6-f7b1ec69bfa0",
   "metadata": {},
   "source": [
    "### Measuring performance of UCCSD with various interactomic distance"
   ]
  },
  {
   "cell_type": "code",
   "execution_count": null,
   "id": "5c41e354-01af-44c8-865e-9c57a447f58b",
   "metadata": {},
   "outputs": [],
   "source": []
  }
 ],
 "metadata": {
  "kernelspec": {
   "display_name": "Python 3 (ipykernel)",
   "language": "python",
   "name": "python3"
  },
  "language_info": {
   "codemirror_mode": {
    "name": "ipython",
    "version": 3
   },
   "file_extension": ".py",
   "mimetype": "text/x-python",
   "name": "python",
   "nbconvert_exporter": "python",
   "pygments_lexer": "ipython3",
   "version": "3.10.14"
  }
 },
 "nbformat": 4,
 "nbformat_minor": 5
}
